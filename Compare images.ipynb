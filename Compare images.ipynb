{
 "cells": [
  {
   "cell_type": "code",
   "execution_count": 136,
   "metadata": {},
   "outputs": [],
   "source": [
    "from PIL import ImageChops\n",
    "import math, operator\n",
    "from PIL import Image\n",
    "from functools import reduce\n",
    "import imagehash\n",
    "\n",
    "def rmsdiff(im1, im2):\n",
    "    \"Calculate the root-mean-square difference between two images\"\n",
    "\n",
    "    h = ImageChops.difference(im1, im2).histogram()\n",
    "\n",
    "    # calculate rms\n",
    "    return math.sqrt(reduce(operator.add,\n",
    "        map(lambda h, i: h*(i**2), h, range(256))\n",
    "    ) / (float(im1.size[0]) * im1.size[1]))\n",
    "\n",
    "def rmsdiff2(img1, img2):\n",
    "    return imagehash.average_hash(img1) - imagehash.average_hash(img2)\n",
    "\n",
    "def equal(im1, im2):\n",
    "    return ImageChops.difference(im1, im2).getbbox() is None"
   ]
  },
  {
   "cell_type": "code",
   "execution_count": 131,
   "metadata": {},
   "outputs": [],
   "source": [
    "import sys\n",
    "\n",
    "# from scipy.misc import imread\n",
    "from scipy.linalg import norm\n",
    "from scipy import sum, average\n",
    "import imageio\n",
    "\n",
    "\n",
    "def compare_images(img1, img2):\n",
    "    # normalize to compensate for exposure difference, this may be unnecessary\n",
    "    # consider disabling it\n",
    "    img1 = normalize(img1)\n",
    "    img2 = normalize(img2)\n",
    "    # calculate the difference and its norms\n",
    "    diff = img1 - img2  # elementwise for scipy arrays\n",
    "    m_norm = sum(abs(diff))  # Manhattan norm\n",
    "    z_norm = norm(diff.ravel(), 0)  # Zero norm\n",
    "    return (m_norm, z_norm)\n",
    "\n",
    "def to_grayscale(arr):\n",
    "    \"If arr is a color image (3D array), convert it to grayscale (2D array).\"\n",
    "    if len(arr.shape) == 3:\n",
    "        return average(arr, -1)  # average over the last axis (color channels)\n",
    "    else:\n",
    "        return arr\n",
    "    \n",
    "def normalize(arr):\n",
    "    rng = arr.max()-arr.min()\n",
    "    amin = arr.min()\n",
    "    return (arr-amin)*255/rng\n",
    "\n",
    "def compare_main(file1, file2):\n",
    "    img1 = to_grayscale(imageio.imread(file1).astype(float))\n",
    "    img2 = to_grayscale(imageio.imread(file2).astype(float))\n",
    "    # compare\n",
    "    return compare_images(img1, img2)"
   ]
  },
  {
   "cell_type": "code",
   "execution_count": 126,
   "metadata": {},
   "outputs": [],
   "source": [
    "from os import listdir\n",
    "from os.path import isfile, join\n",
    "import timeit\n",
    "\n",
    "path1 = '/home/dzanardo/github/apartamento/2449863607/'\n",
    "path2 = '/home/dzanardo/github/apartamento/2454100925/'\n",
    "\n",
    "files1 = [f for f in listdir(path1) if isfile(join(path1, f))]\n",
    "files2 = [f for f in listdir(path2) if isfile(join(path2, f))]"
   ]
  },
  {
   "cell_type": "code",
   "execution_count": 132,
   "metadata": {},
   "outputs": [
    {
     "name": "stdout",
     "output_type": "stream",
     "text": [
      "67.85159101139617\n",
      "12\n",
      "Manhattan norm: 4173883.0 / per pixel: 48.30883101851852\n",
      "Zero norm: 85977.0 / per pixel: 0.9951041666666667\n"
     ]
    }
   ],
   "source": [
    "file1 = \"/home/dzanardo/github/apartamento/2449863607/33.jpg\"\n",
    "file2 = \"/home/dzanardo/github/apartamento/2454100925/20.jpg\"\n",
    "\n",
    "im2 = Image.open(file1)\n",
    "im1 = Image.open(file2)\n",
    "\n",
    "print(rmsdiff(im2, im1))\n",
    "print(rmsdiff2(im2, im1))\n",
    "\n",
    "# read images as 2D arrays (convert to grayscale for simplicity)\n",
    "n_m, n_0 = compare_main(file2, file1)\n",
    "print(\"Manhattan norm:\", n_m, \"/ per pixel:\", n_m/img1.size)\n",
    "print(\"Zero norm:\", n_0, \"/ per pixel:\", n_0*1.0/img1.size)"
   ]
  },
  {
   "cell_type": "code",
   "execution_count": 127,
   "metadata": {},
   "outputs": [
    {
     "name": "stdout",
     "output_type": "stream",
     "text": [
      "27\n",
      "2.519704706995981\n"
     ]
    }
   ],
   "source": [
    "start = timeit.default_timer()\n",
    "similares = 0\n",
    "\n",
    "for file1 in files1:\n",
    "    im2 = Image.open(path1 + file1)\n",
    "    \n",
    "    diff_p = 0\n",
    "    #print('--------------------------------- ' + str(file1))\n",
    "    for file2 in files2:\n",
    "        im1 = Image.open(path2 + file2)\n",
    "        diff = rmsdiff(im2, im1)\n",
    "        \n",
    "        if diff < 40:\n",
    "            similares += 1\n",
    "            #print(diff, file1, file2)\n",
    "            break\n",
    "            \n",
    "print(similares)\n",
    "stop = timeit.default_timer()\n",
    "print(stop - start)\n"
   ]
  },
  {
   "cell_type": "code",
   "execution_count": 137,
   "metadata": {},
   "outputs": [
    {
     "name": "stdout",
     "output_type": "stream",
     "text": [
      "23\n",
      "3.514025796990609\n"
     ]
    }
   ],
   "source": [
    "start = timeit.default_timer()\n",
    "similares = 0\n",
    "\n",
    "for file1 in files1:\n",
    "    im2 = Image.open(path1 + file1)\n",
    "    \n",
    "    diff_p = 0\n",
    "    #print('--------------------------------- ' + str(file1))\n",
    "    for file2 in files2:\n",
    "        im1 = Image.open(path2 + file2)\n",
    "        diff = rmsdiff2(im2, im1)\n",
    "        \n",
    "        if diff < 5:\n",
    "            similares += 1\n",
    "            #print(diff, file1, file2)\n",
    "            break\n",
    "            \n",
    "\n",
    "print(similares)\n",
    "stop = timeit.default_timer()\n",
    "print(stop - start)"
   ]
  },
  {
   "cell_type": "code",
   "execution_count": 135,
   "metadata": {},
   "outputs": [
    {
     "name": "stdout",
     "output_type": "stream",
     "text": [
      "28\n",
      "8.612002982001286\n"
     ]
    }
   ],
   "source": [
    "start = timeit.default_timer()\n",
    "similares = 0\n",
    "\n",
    "for file1 in files1:\n",
    "    im2 = path1 + file1\n",
    "    \n",
    "    diff_p = 0\n",
    "    #print('--------------------------------- ' + str(file1))\n",
    "    for file2 in files2:\n",
    "        im1 = path2 + file2\n",
    "        n_m, n_0 = compare_main(im1, im2)\n",
    "        \n",
    "        if n_m/img1.size < 30:\n",
    "            similares += 1\n",
    "            #print(n_m/img1.size, file1, file2)\n",
    "            break\n",
    "            \n",
    "\n",
    "print(similares)\n",
    "stop = timeit.default_timer()\n",
    "print(stop - start)"
   ]
  }
 ],
 "metadata": {
  "kernelspec": {
   "display_name": "Python 3",
   "language": "python",
   "name": "python3"
  },
  "language_info": {
   "codemirror_mode": {
    "name": "ipython",
    "version": 3
   },
   "file_extension": ".py",
   "mimetype": "text/x-python",
   "name": "python",
   "nbconvert_exporter": "python",
   "pygments_lexer": "ipython3",
   "version": "3.7.6"
  }
 },
 "nbformat": 4,
 "nbformat_minor": 4
}
