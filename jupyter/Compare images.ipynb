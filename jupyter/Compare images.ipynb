{
 "cells": [
  {
   "cell_type": "code",
   "execution_count": 2,
   "metadata": {},
   "outputs": [],
   "source": [
    "from PIL import ImageChops\n",
    "import math, operator\n",
    "from PIL import Image\n",
    "from functools import reduce\n",
    "import imagehash\n",
    "\n",
    "def rmsdiff(im1, im2):\n",
    "    \"Calculate the root-mean-square difference between two images\"\n",
    "\n",
    "    h = ImageChops.difference(im1, im2).histogram()\n",
    "\n",
    "    # calculate rms\n",
    "    return math.sqrt(reduce(operator.add,\n",
    "        map(lambda h, i: h*(i**2), h, range(256))\n",
    "    ) / (float(im1.size[0]) * im1.size[1]))\n",
    "\n",
    "def rmsdiff2(img1, img2):\n",
    "    return imagehash.average_hash(img1) - imagehash.average_hash(img2)\n",
    "\n",
    "def equal(im1, im2):\n",
    "    return ImageChops.difference(im1, im2).getbbox() is None"
   ]
  },
  {
   "cell_type": "code",
   "execution_count": 3,
   "metadata": {},
   "outputs": [],
   "source": [
    "import sys\n",
    "\n",
    "# from scipy.misc import imread\n",
    "from scipy.linalg import norm\n",
    "from scipy import sum, average\n",
    "import imageio\n",
    "\n",
    "\n",
    "def compare_images(img1, img2):\n",
    "    # normalize to compensate for exposure difference, this may be unnecessary\n",
    "    # consider disabling it\n",
    "    img1 = normalize(img1)\n",
    "    img2 = normalize(img2)\n",
    "    # calculate the difference and its norms\n",
    "    diff = img1 - img2  # elementwise for scipy arrays\n",
    "    m_norm = sum(abs(diff))  # Manhattan norm\n",
    "    z_norm = norm(diff.ravel(), 0)  # Zero norm\n",
    "    return (m_norm, z_norm)\n",
    "\n",
    "def to_grayscale(arr):\n",
    "    \"If arr is a color image (3D array), convert it to grayscale (2D array).\"\n",
    "    if len(arr.shape) == 3:\n",
    "        return average(arr, -1)  # average over the last axis (color channels)\n",
    "    else:\n",
    "        return arr\n",
    "    \n",
    "def normalize(arr):\n",
    "    rng = arr.max()-arr.min()\n",
    "    amin = arr.min()\n",
    "    return (arr-amin)*255/rng\n",
    "\n",
    "def compare_main(file1, file2):\n",
    "    img1 = to_grayscale(imageio.imread(file1).astype(float))\n",
    "    img2 = to_grayscale(imageio.imread(file2).astype(float))\n",
    "    # compare\n",
    "    return compare_images(img1, img2)"
   ]
  },
  {
   "cell_type": "code",
   "execution_count": 6,
   "metadata": {},
   "outputs": [],
   "source": [
    "from os import listdir\n",
    "from os.path import isfile, join\n",
    "import timeit\n",
    "\n",
    "path1 = '/home/dzanardo/github/apartamento/2449863607/'\n",
    "path2 = '/home/dzanardo/github/apartamento/2454100925/'\n",
    "\n",
    "files1 = [f for f in listdir(path1) if isfile(join(path1, f))]\n",
    "files2 = [f for f in listdir(path2) if isfile(join(path2, f))]"
   ]
  },
  {
   "cell_type": "code",
   "execution_count": 4,
   "metadata": {},
   "outputs": [
    {
     "name": "stdout",
     "output_type": "stream",
     "text": [
      "32.607018245906644\n",
      "8\n"
     ]
    },
    {
     "name": "stderr",
     "output_type": "stream",
     "text": [
      "/home/dzanardo/anaconda3/lib/python3.7/site-packages/ipykernel_launcher.py:23: DeprecationWarning: scipy.average is deprecated and will be removed in SciPy 2.0.0, use numpy.average instead\n",
      "/home/dzanardo/anaconda3/lib/python3.7/site-packages/ipykernel_launcher.py:16: DeprecationWarning: scipy.sum is deprecated and will be removed in SciPy 2.0.0, use numpy.sum instead\n",
      "  app.launch_new_instance()\n"
     ]
    },
    {
     "ename": "NameError",
     "evalue": "name 'img1' is not defined",
     "output_type": "error",
     "traceback": [
      "\u001b[0;31m--------------------------------------------------------------------------\u001b[0m",
      "\u001b[0;31mNameError\u001b[0m                                Traceback (most recent call last)",
      "\u001b[0;32m<ipython-input-4-c308ed8c26c0>\u001b[0m in \u001b[0;36m<module>\u001b[0;34m\u001b[0m\n\u001b[1;32m     10\u001b[0m \u001b[0;31m# read images as 2D arrays (convert to grayscale for simplicity)\u001b[0m\u001b[0;34m\u001b[0m\u001b[0;34m\u001b[0m\u001b[0;34m\u001b[0m\u001b[0m\n\u001b[1;32m     11\u001b[0m \u001b[0mn_m\u001b[0m\u001b[0;34m,\u001b[0m \u001b[0mn_0\u001b[0m \u001b[0;34m=\u001b[0m \u001b[0mcompare_main\u001b[0m\u001b[0;34m(\u001b[0m\u001b[0mfile2\u001b[0m\u001b[0;34m,\u001b[0m \u001b[0mfile1\u001b[0m\u001b[0;34m)\u001b[0m\u001b[0;34m\u001b[0m\u001b[0;34m\u001b[0m\u001b[0m\n\u001b[0;32m---> 12\u001b[0;31m \u001b[0mprint\u001b[0m\u001b[0;34m(\u001b[0m\u001b[0;34m\"Manhattan norm:\"\u001b[0m\u001b[0;34m,\u001b[0m \u001b[0mn_m\u001b[0m\u001b[0;34m,\u001b[0m \u001b[0;34m\"/ per pixel:\"\u001b[0m\u001b[0;34m,\u001b[0m \u001b[0mn_m\u001b[0m\u001b[0;34m/\u001b[0m\u001b[0mimg1\u001b[0m\u001b[0;34m.\u001b[0m\u001b[0msize\u001b[0m\u001b[0;34m)\u001b[0m\u001b[0;34m\u001b[0m\u001b[0;34m\u001b[0m\u001b[0m\n\u001b[0m\u001b[1;32m     13\u001b[0m \u001b[0mprint\u001b[0m\u001b[0;34m(\u001b[0m\u001b[0;34m\"Zero norm:\"\u001b[0m\u001b[0;34m,\u001b[0m \u001b[0mn_0\u001b[0m\u001b[0;34m,\u001b[0m \u001b[0;34m\"/ per pixel:\"\u001b[0m\u001b[0;34m,\u001b[0m \u001b[0mn_0\u001b[0m\u001b[0;34m*\u001b[0m\u001b[0;36m1.0\u001b[0m\u001b[0;34m/\u001b[0m\u001b[0mimg1\u001b[0m\u001b[0;34m.\u001b[0m\u001b[0msize\u001b[0m\u001b[0;34m)\u001b[0m\u001b[0;34m\u001b[0m\u001b[0;34m\u001b[0m\u001b[0m\n",
      "\u001b[0;31mNameError\u001b[0m: name 'img1' is not defined"
     ]
    }
   ],
   "source": [
    "file1 = \"/home/dzanardo/github/apartamento/2449863607/14.jpg\"\n",
    "file2 = \"/home/dzanardo/github/apartamento/2454100925/7.jpg\"\n",
    "\n",
    "im2 = Image.open(file1)\n",
    "im1 = Image.open(file2)\n",
    "\n",
    "print(rmsdiff(im2, im1))\n",
    "print(rmsdiff2(im2, im1))\n",
    "\n",
    "# read images as 2D arrays (convert to grayscale for simplicity)\n",
    "n_m, n_0 = compare_main(file2, file1)\n",
    "print(\"Manhattan norm:\", n_m, \"/ per pixel:\", n_m/img1.size)\n",
    "print(\"Zero norm:\", n_0, \"/ per pixel:\", n_0*1.0/img1.size)"
   ]
  },
  {
   "cell_type": "code",
   "execution_count": 8,
   "metadata": {},
   "outputs": [
    {
     "name": "stdout",
     "output_type": "stream",
     "text": [
      "--------------------------------- 12.jpg\n",
      "--------------------------------- 14.jpg\n",
      "32.607018245906644 14.jpg 7.jpg\n",
      "--------------------------------- 28.jpg\n",
      "--------------------------------- 19.jpg\n",
      "30.642151093079466 19.jpg 27.jpg\n",
      "--------------------------------- 33.jpg\n",
      "--------------------------------- 27.jpg\n",
      "--------------------------------- 36.jpg\n",
      "--------------------------------- 2.jpg\n",
      "22.555963837300983 2.jpg 13.jpg\n",
      "--------------------------------- 22.jpg\n",
      "--------------------------------- 15.jpg\n",
      "25.255473370839542 15.jpg 6.jpg\n",
      "--------------------------------- 43.jpg\n",
      "19.063775761802702 43.jpg 31.jpg\n",
      "--------------------------------- 21.jpg\n",
      "--------------------------------- 31.jpg\n",
      "19.063775761802702 31.jpg 31.jpg\n",
      "--------------------------------- 4.jpg\n",
      "37.77758512001528 4.jpg 2.jpg\n",
      "--------------------------------- 34.jpg\n",
      "--------------------------------- 18.jpg\n",
      "26.832498261678186 18.jpg 25.jpg\n",
      "--------------------------------- 42.jpg\n",
      "22.810953651293964 42.jpg 34.jpg\n",
      "--------------------------------- 1.jpg\n",
      "36.39070584946412 1.jpg 28.jpg\n",
      "--------------------------------- 35.jpg\n",
      "--------------------------------- 3.jpg\n",
      "9.188819192265573 3.jpg 36.jpg\n",
      "--------------------------------- 9.jpg\n",
      "--------------------------------- 8.jpg\n",
      "31.362788128077305 8.jpg 12.jpg\n",
      "--------------------------------- 23.jpg\n",
      "--------------------------------- 32.jpg\n",
      "22.555963837300983 32.jpg 13.jpg\n",
      "--------------------------------- 40.jpg\n",
      "22.810953651293964 40.jpg 34.jpg\n",
      "--------------------------------- 10.jpg\n",
      "23.26602593832825 10.jpg 10.jpg\n",
      "--------------------------------- 37.jpg\n",
      "--------------------------------- 20.jpg\n",
      "24.37610016510556 20.jpg 5.jpg\n",
      "--------------------------------- 11.jpg\n",
      "20.339814256317126 11.jpg 16.jpg\n",
      "--------------------------------- 38.jpg\n",
      "--------------------------------- 13.jpg\n",
      "--------------------------------- 17.jpg\n",
      "34.94038209473282 17.jpg 29.jpg\n",
      "--------------------------------- 41.jpg\n",
      "38.01057266418462 41.jpg 32.jpg\n",
      "--------------------------------- 5.jpg\n",
      "26.52787819934454 5.jpg 1.jpg\n",
      "--------------------------------- 24.jpg\n",
      "--------------------------------- 25.jpg\n",
      "--------------------------------- 30.jpg\n",
      "22.810953651293964 30.jpg 34.jpg\n",
      "--------------------------------- 29.jpg\n",
      "38.01057266418462 29.jpg 32.jpg\n",
      "--------------------------------- 6.jpg\n",
      "36.02767567234739 6.jpg 9.jpg\n",
      "--------------------------------- 39.jpg\n",
      "24.53978699649476 39.jpg 21.jpg\n",
      "--------------------------------- 16.jpg\n",
      "25.67072771804637 16.jpg 8.jpg\n",
      "--------------------------------- 7.jpg\n",
      "33.843680854722294 7.jpg 11.jpg\n",
      "--------------------------------- 26.jpg\n",
      "24.53978699649476 26.jpg 21.jpg\n",
      "27\n",
      "2.718964450992644\n"
     ]
    }
   ],
   "source": [
    "start = timeit.default_timer()\n",
    "similares = 0\n",
    "\n",
    "for file1 in files1:\n",
    "    im2 = Image.open(path1 + file1)\n",
    "    \n",
    "    diff_p = 0\n",
    "    print('--------------------------------- ' + str(file1))\n",
    "    for file2 in files2:\n",
    "        im1 = Image.open(path2 + file2)\n",
    "        diff = rmsdiff(im2, im1)\n",
    "        \n",
    "        if diff < 40:\n",
    "            similares += 1\n",
    "            print(diff, file1, file2)\n",
    "            break\n",
    "            \n",
    "print(similares)\n",
    "stop = timeit.default_timer()\n",
    "print(stop - start)\n"
   ]
  },
  {
   "cell_type": "code",
   "execution_count": 137,
   "metadata": {},
   "outputs": [
    {
     "name": "stdout",
     "output_type": "stream",
     "text": [
      "23\n",
      "3.514025796990609\n"
     ]
    }
   ],
   "source": [
    "start = timeit.default_timer()\n",
    "similares = 0\n",
    "\n",
    "for file1 in files1:\n",
    "    im2 = Image.open(path1 + file1)\n",
    "    \n",
    "    diff_p = 0\n",
    "    #print('--------------------------------- ' + str(file1))\n",
    "    for file2 in files2:\n",
    "        im1 = Image.open(path2 + file2)\n",
    "        diff = rmsdiff2(im2, im1)\n",
    "        \n",
    "        if diff < 5:\n",
    "            similares += 1\n",
    "            #print(diff, file1, file2)\n",
    "            break\n",
    "            \n",
    "\n",
    "print(similares)\n",
    "stop = timeit.default_timer()\n",
    "print(stop - start)"
   ]
  },
  {
   "cell_type": "code",
   "execution_count": 135,
   "metadata": {},
   "outputs": [
    {
     "name": "stdout",
     "output_type": "stream",
     "text": [
      "28\n",
      "8.612002982001286\n"
     ]
    }
   ],
   "source": [
    "start = timeit.default_timer()\n",
    "similares = 0\n",
    "\n",
    "for file1 in files1:\n",
    "    im2 = path1 + file1\n",
    "    \n",
    "    diff_p = 0\n",
    "    #print('--------------------------------- ' + str(file1))\n",
    "    for file2 in files2:\n",
    "        im1 = path2 + file2\n",
    "        n_m, n_0 = compare_main(im1, im2)\n",
    "        \n",
    "        if n_m/img1.size < 30:\n",
    "            similares += 1\n",
    "            #print(n_m/img1.size, file1, file2)\n",
    "            break\n",
    "            \n",
    "\n",
    "print(similares)\n",
    "stop = timeit.default_timer()\n",
    "print(stop - start)"
   ]
  }
 ],
 "metadata": {
  "kernelspec": {
   "display_name": "Python 3",
   "language": "python",
   "name": "python3"
  },
  "language_info": {
   "codemirror_mode": {
    "name": "ipython",
    "version": 3
   },
   "file_extension": ".py",
   "mimetype": "text/x-python",
   "name": "python",
   "nbconvert_exporter": "python",
   "pygments_lexer": "ipython3",
   "version": "3.7.6"
  }
 },
 "nbformat": 4,
 "nbformat_minor": 4
}
