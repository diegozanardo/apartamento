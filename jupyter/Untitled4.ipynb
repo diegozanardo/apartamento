{
 "cells": [
  {
   "cell_type": "code",
   "execution_count": 13,
   "metadata": {},
   "outputs": [],
   "source": [
    "from PIL import ImageChops\n",
    "import math, operator\n",
    "from PIL import Image\n",
    "from functools import reduce\n",
    "import imagehash\n",
    "\n",
    "def rmsdiff(im1, im2):\n",
    "    \"Calculate the root-mean-square difference between two images\"\n",
    "\n",
    "    h = ImageChops.difference(im1, im2).histogram()\n",
    "\n",
    "    # calculate rms\n",
    "    return math.sqrt(reduce(operator.add,\n",
    "        map(lambda h, i: h*(i**2), h, range(256))\n",
    "    ) / (float(im1.size[0]) * im1.size[1]))\n",
    "\n",
    "def rmsdiff2(img1, img2):\n",
    "    return imagehash.average_hash(img1) - imagehash.average_hash(img2)\n",
    "\n",
    "def compare_images(img1, img2):\n",
    "    # normalize to compensate for exposure difference, this may be unnecessary\n",
    "    # consider disabling it\n",
    "    img1 = normalize(img1)\n",
    "    img2 = normalize(img2)\n",
    "    # calculate the difference and its norms\n",
    "    diff = img1 - img2  # elementwise for scipy arrays\n",
    "    m_norm = sum(abs(diff))  # Manhattan norm\n",
    "    z_norm = norm(diff.ravel(), 0)  # Zero norm\n",
    "    return (m_norm, z_norm)\n",
    "\n",
    "\n",
    "def equal(im1, im2):\n",
    "    return ImageChops.difference(im1, im2).getbbox() is None\n",
    "\n",
    "import sys\n",
    "\n",
    "# from scipy.misc import imread\n",
    "from scipy.linalg import norm\n",
    "from scipy import sum, average\n",
    "import imageio\n",
    "\n",
    "\n",
    "def compare_images(img1, img2):\n",
    "    # normalize to compensate for exposure difference, this may be unnecessary\n",
    "    # consider disabling it\n",
    "    img1 = normalize(img1)\n",
    "    img2 = normalize(img2)\n",
    "    # calculate the difference and its norms\n",
    "    diff = img1 - img2  # elementwise for scipy arrays\n",
    "    m_norm = sum(abs(diff))  # Manhattan norm\n",
    "    z_norm = norm(diff.ravel(), 0)  # Zero norm\n",
    "    return (m_norm, z_norm)\n",
    "\n",
    "def to_grayscale(arr):\n",
    "    \"If arr is a color image (3D array), convert it to grayscale (2D array).\"\n",
    "    if len(arr.shape) == 3:\n",
    "        return average(arr, -1)  # average over the last axis (color channels)\n",
    "    else:\n",
    "        return arr\n",
    "    \n",
    "def normalize(arr):\n",
    "    rng = arr.max()-arr.min()\n",
    "    amin = arr.min()\n",
    "    return (arr-amin)*255/rng\n",
    "\n",
    "def compare_main(file1, file2):\n",
    "    img1 = to_grayscale(imageio.imread(file1).astype(float))\n",
    "    img2 = to_grayscale(imageio.imread(file2).astype(float))\n",
    "    # compare\n",
    "    n_m, n_0 = compare_images(img1, img2)\n",
    "    \n",
    "    return n_m, n_0, img1, img2"
   ]
  },
  {
   "cell_type": "code",
   "execution_count": 15,
   "metadata": {},
   "outputs": [
    {
     "name": "stdout",
     "output_type": "stream",
     "text": [
      "32.607018245906644\n",
      "8\n",
      "Manhattan norm: 2070915.2604712036 / per pixel: 23.968926625824114\n",
      "Zero norm: 81797.0 / per pixel: 0.9467245370370371\n"
     ]
    },
    {
     "name": "stderr",
     "output_type": "stream",
     "text": [
      "/home/dzanardo/anaconda3/lib/python3.7/site-packages/ipykernel_launcher.py:45: DeprecationWarning: scipy.average is deprecated and will be removed in SciPy 2.0.0, use numpy.average instead\n",
      "/home/dzanardo/anaconda3/lib/python3.7/site-packages/ipykernel_launcher.py:38: DeprecationWarning: scipy.sum is deprecated and will be removed in SciPy 2.0.0, use numpy.sum instead\n"
     ]
    }
   ],
   "source": [
    "file1 = \"/home/dzanardo/github/apartamento/images_compare/2449863607/14.jpg\"\n",
    "file2 = \"/home/dzanardo/github/apartamento/images_compare/2454100925/7.jpg\"\n",
    "\n",
    "im2 = Image.open(file1)\n",
    "im1 = Image.open(file2)\n",
    "\n",
    "print(rmsdiff(im2, im1))\n",
    "print(rmsdiff2(im2, im1))\n",
    "\n",
    "# read images as 2D arrays (convert to grayscale for simplicity)\n",
    "n_m, n_0, img1, img2 = compare_main(file2, file1)\n",
    "print(\"Manhattan norm:\", n_m, \"/ per pixel:\", n_m/img1.size)\n",
    "print(\"Zero norm:\", n_0, \"/ per pixel:\", n_0*1.0/img1.size)"
   ]
  },
  {
   "cell_type": "code",
   "execution_count": 18,
   "metadata": {},
   "outputs": [
    {
     "data": {
      "text/plain": [
       "True"
      ]
     },
     "execution_count": 18,
     "metadata": {},
     "output_type": "execute_result"
    }
   ],
   "source": [
    "import cv2\n",
    "import numpy as np\n",
    "\n",
    "file1 = \"21.jpg\"\n",
    "file2 = \"/home/dzanardo/github/apartamento/images_compare/2454100925/7.jpg\"\n",
    "\n",
    "img = cv2.imread(file1)\n",
    "\n",
    "alpha = 2.0\n",
    "beta = -160\n",
    "\n",
    "new = alpha * img + beta\n",
    "new = np.clip(new, 0, 255).astype(np.uint8)\n",
    "\n",
    "cv2.imwrite(\"cleaned.png\", new)"
   ]
  }
 ],
 "metadata": {
  "kernelspec": {
   "display_name": "Python 3",
   "language": "python",
   "name": "python3"
  },
  "language_info": {
   "codemirror_mode": {
    "name": "ipython",
    "version": 3
   },
   "file_extension": ".py",
   "mimetype": "text/x-python",
   "name": "python",
   "nbconvert_exporter": "python",
   "pygments_lexer": "ipython3",
   "version": "3.7.6"
  }
 },
 "nbformat": 4,
 "nbformat_minor": 4
}
