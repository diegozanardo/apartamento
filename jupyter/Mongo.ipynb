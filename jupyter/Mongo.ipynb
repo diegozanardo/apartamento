{
 "cells": [
  {
   "cell_type": "code",
   "execution_count": 1,
   "metadata": {},
   "outputs": [],
   "source": [
    "import pandas as pd\n",
    "from pymongo import MongoClient\n",
    "\n",
    "\n",
    "def _connect_mongo(host, port, username, password, db):\n",
    "    \"\"\" A util for making a connection to mongo \"\"\"\n",
    "\n",
    "    if username and password:\n",
    "        mongo_uri = 'mongodb://%s:%s@%s:%s/%s' % (username, password, host, port, db)\n",
    "        conn = MongoClient(mongo_uri)\n",
    "    else:\n",
    "        conn = MongoClient(host, port)\n",
    "\n",
    "\n",
    "    return conn[db]"
   ]
  },
  {
   "cell_type": "code",
   "execution_count": 2,
   "metadata": {},
   "outputs": [],
   "source": [
    "def read_mongo(db, collection, query={}, host='localhost', port=27017, username=None, password=None, no_id=True):\n",
    "    \"\"\" Read from Mongo and Store into DataFrame \"\"\"\n",
    "\n",
    "    # Connect to MongoDB\n",
    "    db = _connect_mongo(host=host, port=port, username=username, password=password, db=db)\n",
    "\n",
    "    # Make a query to the specific DB and Collection\n",
    "    cursor = db[collection].find(query)\n",
    "\n",
    "    # Expand the cursor and construct the DataFrame\n",
    "    df =  pd.DataFrame(list(cursor))\n",
    "\n",
    "    # Delete the _id\n",
    "    if no_id:\n",
    "        del df['_id']\n",
    "\n",
    "    return df"
   ]
  },
  {
   "cell_type": "code",
   "execution_count": 3,
   "metadata": {},
   "outputs": [],
   "source": [
    "ids = ['75007517', '2464774082', '1041254421', '2476424816', '2443225876', '2476740635', '2454100925', '2460138077', '2476904013', '1038740426', '2472568298']\n",
    "#df = read_mongo(db=\"propertiesdb\", collection=\"apartment\", host='localhost', query={\"id_vivareal\" : {\"$in\" : ids}})\n",
    "df = read_mongo(db=\"propertiesdb\", collection=\"apartment\", host='localhost')"
   ]
  },
  {
   "cell_type": "code",
   "execution_count": 4,
   "metadata": {},
   "outputs": [],
   "source": [
    "df['point'] = df['address'].apply(lambda v: v.get('point') if isinstance(v, dict) else '')\n",
    "df['link_url'] = df['link'].apply(lambda v: v.get('href') if isinstance(v, dict) else '')\n",
    "df['link_url'] = 'https://www.vivareal.com.br' + df['link_url']"
   ]
  },
  {
   "cell_type": "code",
   "execution_count": 5,
   "metadata": {},
   "outputs": [],
   "source": [
    "df['lon'] = pd.to_numeric(df['point'].apply(lambda v: v.get('lon') if isinstance(v, dict) else ''), errors='coerce')\n",
    "df['lat'] = pd.to_numeric(df['point'].apply(lambda v: v.get('lat') if isinstance(v, dict) else ''), errors='coerce')"
   ]
  },
  {
   "cell_type": "code",
   "execution_count": 6,
   "metadata": {},
   "outputs": [],
   "source": [
    "import numpy as np\n",
    "def haversine_np(lon1, lat1, lon2, lat2):\n",
    "    \"\"\"\n",
    "    Calculate the great circle distance between two points\n",
    "    on the earth (specified in decimal degrees)\n",
    "\n",
    "    All args must be of equal length.    \n",
    "\n",
    "    \"\"\"\n",
    "    lon1, lat1, lon2, lat2 = map(np.radians, [lon1, lat1, lon2, lat2])\n",
    "\n",
    "    dlon = lon2 - lon1\n",
    "    dlat = lat2 - lat1\n",
    "\n",
    "    a = np.sin(dlat/2.0)**2 + np.cos(lat1) * np.cos(lat2) * np.sin(dlon/2.0)**2\n",
    "\n",
    "    c = 2 * np.arcsin(np.sqrt(a))\n",
    "    km = 6367 * c\n",
    "    return km"
   ]
  },
  {
   "cell_type": "code",
   "execution_count": 7,
   "metadata": {
    "scrolled": true
   },
   "outputs": [
    {
     "data": {
      "text/plain": [
       "0.0"
      ]
     },
     "execution_count": 7,
     "metadata": {},
     "output_type": "execute_result"
    }
   ],
   "source": [
    "item = df[(df.id_vivareal == '2454100925')]\n",
    "lat_default, log_default = item['lat'].values[0], item['lon'].values[0]\n",
    "haversine_np(lat_default, log_default, -22.9388, -47.050991)"
   ]
  },
  {
   "cell_type": "code",
   "execution_count": 8,
   "metadata": {
    "scrolled": false
   },
   "outputs": [
    {
     "data": {
      "text/html": [
       "<div>\n",
       "<style scoped>\n",
       "    .dataframe tbody tr th:only-of-type {\n",
       "        vertical-align: middle;\n",
       "    }\n",
       "\n",
       "    .dataframe tbody tr th {\n",
       "        vertical-align: top;\n",
       "    }\n",
       "\n",
       "    .dataframe thead th {\n",
       "        text-align: right;\n",
       "    }\n",
       "</style>\n",
       "<table border=\"1\" class=\"dataframe\">\n",
       "  <thead>\n",
       "    <tr style=\"text-align: right;\">\n",
       "      <th></th>\n",
       "      <th>dist</th>\n",
       "      <th>id_vivareal</th>\n",
       "      <th>title</th>\n",
       "      <th>lon</th>\n",
       "      <th>lat</th>\n",
       "    </tr>\n",
       "  </thead>\n",
       "  <tbody>\n",
       "    <tr>\n",
       "      <th>98</th>\n",
       "      <td>0.000000</td>\n",
       "      <td>2454308977</td>\n",
       "      <td>apartamento - Parque Prado - Campinas</td>\n",
       "      <td>-47.050991</td>\n",
       "      <td>-22.938800</td>\n",
       "    </tr>\n",
       "    <tr>\n",
       "      <th>49</th>\n",
       "      <td>0.000000</td>\n",
       "      <td>2029235481</td>\n",
       "      <td>apartamento - Parque Prado - Campinas</td>\n",
       "      <td>-47.050991</td>\n",
       "      <td>-22.938800</td>\n",
       "    </tr>\n",
       "    <tr>\n",
       "      <th>167</th>\n",
       "      <td>0.000000</td>\n",
       "      <td>2433721919</td>\n",
       "      <td>Lindo apartamento no bairro Vista Prado</td>\n",
       "      <td>-47.050991</td>\n",
       "      <td>-22.938800</td>\n",
       "    </tr>\n",
       "    <tr>\n",
       "      <th>696</th>\n",
       "      <td>0.000000</td>\n",
       "      <td>2469921496</td>\n",
       "      <td>apartamento - Parque Prado - Campinas</td>\n",
       "      <td>-47.050991</td>\n",
       "      <td>-22.938800</td>\n",
       "    </tr>\n",
       "    <tr>\n",
       "      <th>363</th>\n",
       "      <td>0.000000</td>\n",
       "      <td>2476944607</td>\n",
       "      <td>Apartamento para venda Eco Life/Parque Parado/...</td>\n",
       "      <td>-47.050991</td>\n",
       "      <td>-22.938800</td>\n",
       "    </tr>\n",
       "    <tr>\n",
       "      <th>...</th>\n",
       "      <td>...</td>\n",
       "      <td>...</td>\n",
       "      <td>...</td>\n",
       "      <td>...</td>\n",
       "      <td>...</td>\n",
       "    </tr>\n",
       "    <tr>\n",
       "      <th>974</th>\n",
       "      <td>7.706035</td>\n",
       "      <td>2471465375</td>\n",
       "      <td>Apartamento para venda com 76 metros quadrados...</td>\n",
       "      <td>-47.083569</td>\n",
       "      <td>-22.848926</td>\n",
       "    </tr>\n",
       "    <tr>\n",
       "      <th>243</th>\n",
       "      <td>3434.018232</td>\n",
       "      <td>2441260297</td>\n",
       "      <td>Excelente apartamento térreo disponível para v...</td>\n",
       "      <td>-22.944882</td>\n",
       "      <td>-47.051056</td>\n",
       "    </tr>\n",
       "    <tr>\n",
       "      <th>201</th>\n",
       "      <td>3434.018232</td>\n",
       "      <td>2439522014</td>\n",
       "      <td>Excelente Apartamento Terreo a venda tem 80 m2...</td>\n",
       "      <td>-22.944882</td>\n",
       "      <td>-47.051056</td>\n",
       "    </tr>\n",
       "    <tr>\n",
       "      <th>284</th>\n",
       "      <td>3435.257424</td>\n",
       "      <td>2440708289</td>\n",
       "      <td>Otimo apartamento térreo com Garden varanda Go...</td>\n",
       "      <td>-22.937527</td>\n",
       "      <td>-47.061014</td>\n",
       "    </tr>\n",
       "    <tr>\n",
       "      <th>289</th>\n",
       "      <td>3435.257424</td>\n",
       "      <td>2440710174</td>\n",
       "      <td>Otimo apartamento térreo com Garden 3 dormitór...</td>\n",
       "      <td>-22.937527</td>\n",
       "      <td>-47.061014</td>\n",
       "    </tr>\n",
       "  </tbody>\n",
       "</table>\n",
       "<p>987 rows × 5 columns</p>\n",
       "</div>"
      ],
      "text/plain": [
       "            dist id_vivareal  \\\n",
       "98      0.000000  2454308977   \n",
       "49      0.000000  2029235481   \n",
       "167     0.000000  2433721919   \n",
       "696     0.000000  2469921496   \n",
       "363     0.000000  2476944607   \n",
       "..           ...         ...   \n",
       "974     7.706035  2471465375   \n",
       "243  3434.018232  2441260297   \n",
       "201  3434.018232  2439522014   \n",
       "284  3435.257424  2440708289   \n",
       "289  3435.257424  2440710174   \n",
       "\n",
       "                                                 title        lon        lat  \n",
       "98               apartamento - Parque Prado - Campinas -47.050991 -22.938800  \n",
       "49               apartamento - Parque Prado - Campinas -47.050991 -22.938800  \n",
       "167            Lindo apartamento no bairro Vista Prado -47.050991 -22.938800  \n",
       "696              apartamento - Parque Prado - Campinas -47.050991 -22.938800  \n",
       "363  Apartamento para venda Eco Life/Parque Parado/... -47.050991 -22.938800  \n",
       "..                                                 ...        ...        ...  \n",
       "974  Apartamento para venda com 76 metros quadrados... -47.083569 -22.848926  \n",
       "243  Excelente apartamento térreo disponível para v... -22.944882 -47.051056  \n",
       "201  Excelente Apartamento Terreo a venda tem 80 m2... -22.944882 -47.051056  \n",
       "284  Otimo apartamento térreo com Garden varanda Go... -22.937527 -47.061014  \n",
       "289  Otimo apartamento térreo com Garden 3 dormitór... -22.937527 -47.061014  \n",
       "\n",
       "[987 rows x 5 columns]"
      ]
     },
     "execution_count": 8,
     "metadata": {},
     "output_type": "execute_result"
    }
   ],
   "source": [
    "df['dist'] = haversine_np(lat_default, log_default, df['lat'], df['lon'])\n",
    "\n",
    "df[['dist', \"id_vivareal\", \"title\", \"lon\", \"lat\"]].sort_values('dist')"
   ]
  },
  {
   "cell_type": "code",
   "execution_count": 9,
   "metadata": {},
   "outputs": [
    {
     "data": {
      "text/plain": [
       "884"
      ]
     },
     "execution_count": 9,
     "metadata": {},
     "output_type": "execute_result"
    }
   ],
   "source": [
    "df_filtered = df[(df.dist <= 1)].copy()\n",
    "\n",
    "len(df_filtered)"
   ]
  },
  {
   "cell_type": "code",
   "execution_count": 12,
   "metadata": {},
   "outputs": [],
   "source": [
    "import imagehash\n",
    "import PIL\n",
    "\n",
    "IMGFOLDER = '/home/dzanardo/github/apartamento/images/'\n",
    "\n",
    "def hash_image(file):\n",
    "    print('-------------')\n",
    "    print(file)\n",
    "    file_name = IMGFOLDER + file\n",
    "    img = PIL.Image.open(file_name)\n",
    "    return imagehash.average_hash(img)"
   ]
  },
  {
   "cell_type": "code",
   "execution_count": 14,
   "metadata": {},
   "outputs": [
    {
     "name": "stdout",
     "output_type": "stream",
     "text": [
      "21499 2.6070275623351336 48.917305582610425\n"
     ]
    }
   ],
   "source": [
    "import PIL\n",
    "import imagehash\n",
    "import timeit\n",
    "\n",
    "IMGFOLDER = '/home/dzanardo/github/apartamento/images/'\n",
    "part1 = 0\n",
    "part2 = 0\n",
    "count = 0\n",
    "\n",
    "images = {}\n",
    "\n",
    "for index, row in df_filtered.iterrows():\n",
    "    for m in row['images']:\n",
    "        try:\n",
    "            start = timeit.default_timer()\n",
    "\n",
    "            file_name = IMGFOLDER + m\n",
    "            img = PIL.Image.open(file_name)\n",
    "\n",
    "            stop = timeit.default_timer()\n",
    "            part1 += stop - start\n",
    "\n",
    "\n",
    "            start = timeit.default_timer()\n",
    "\n",
    "            img_hash = imagehash.average_hash(img)\n",
    "            images[m] = img_hash\n",
    "\n",
    "            stop = timeit.default_timer()\n",
    "            part2 += stop - start\n",
    "\n",
    "            count += 1\n",
    "        except:\n",
    "            pass\n",
    "\n",
    "print(count, part1, part2)"
   ]
  },
  {
   "cell_type": "code",
   "execution_count": 16,
   "metadata": {},
   "outputs": [],
   "source": [
    "CUTOFF = 5\n",
    "\n",
    "for index, row in df_filtered.iterrows():\n",
    "    count_s = 0\n",
    "    count_medias = 0\n",
    "    for m in row['images']:\n",
    "        if m in images:\n",
    "            count_medias += 1\n",
    "            for im in item['images'].values[0]:\n",
    "                 if im in images:           \n",
    "                    if (images[m] - images[im]) < CUTOFF:\n",
    "                        count_s += 1\n",
    "                        break\n",
    "                \n",
    "    df_filtered.loc[index,'count_similar'] = count_s\n",
    "    df_filtered.loc[index,'count_medias'] = count_medias\n",
    "    "
   ]
  },
  {
   "cell_type": "code",
   "execution_count": 17,
   "metadata": {},
   "outputs": [],
   "source": [
    "df_filtered2 = df_filtered[(df_filtered.count_similar >1)]\n",
    "df_filtered2 = df_filtered2.sort_values(by=['count_similar'], ascending=False)"
   ]
  },
  {
   "cell_type": "code",
   "execution_count": 19,
   "metadata": {},
   "outputs": [
    {
     "name": "stdout",
     "output_type": "stream",
     "text": [
      "{\"id_vivareal\": [\"2454100925\", \"2449863607\", \"2473269978\", \"1810755482\", \"2460138077\", \"2457273721\", \"2475950575\", \"2475918222\", \"1042656352\", \"84521826\", \"1041448052\", \"2439114591\", \"2462507006\", \"1038662147\", \"2454308977\", \"2467957146\", \"2479060387\", \"1473825520\", \"84580675\", \"2472027085\"], \"link_url\": [\"https://www.vivareal.com.br/imovel/apartamento-3-quartos-parque-prado-bairros-campinas-com-garagem-92m2-venda-RS545000-id-2454100925/\", \"https://www.vivareal.com.br/imovel/apartamento-3-quartos-parque-prado-bairros-campinas-com-garagem-92m2-venda-RS580000-id-2449863607/\", \"https://www.vivareal.com.br/imovel/apartamento-3-quartos-parque-prado-bairros-campinas-com-garagem-92m2-venda-RS590000-id-2473269978/\", \"https://www.vivareal.com.br/imovel/apartamento-3-quartos-jardim-nova-europa-bairros-campinas-com-garagem-92m2-venda-RS585000-id-1810755482/\", \"https://www.vivareal.com.br/imovel/apartamento-3-quartos-parque-prado-bairros-campinas-com-garagem-92m2-venda-RS545000-id-2460138077/\", \"https://www.vivareal.com.br/imovel/apartamento-3-quartos-parque-prado-bairros-campinas-com-garagem-90m2-venda-RS550000-id-2457273721/\", \"https://www.vivareal.com.br/imovel/apartamento-3-quartos-parque-prado-bairros-campinas-com-garagem-90m2-venda-RS550000-id-2475950575/\", \"https://www.vivareal.com.br/imovel/apartamento-3-quartos-parque-prado-bairros-campinas-com-garagem-90m2-venda-RS550000-id-2475918222/\", \"https://www.vivareal.com.br/imovel/apartamento-3-quartos-parque-prado-bairros-campinas-com-garagem-92m2-venda-RS585000-id-1042656352/\", \"https://www.vivareal.com.br/imovel/apartamento-3-quartos-parque-prado-bairros-campinas-com-garagem-92m2-venda-RS580000-id-84521826/\", \"https://www.vivareal.com.br/imovel/apartamento-3-quartos-parque-prado-bairros-campinas-com-garagem-92m2-venda-RS580000-id-1041448052/\", \"https://www.vivareal.com.br/imovel/apartamento-3-quartos-parque-prado-bairros-campinas-com-garagem-92m2-venda-RS584000-id-2439114591/\", \"https://www.vivareal.com.br/imovel/apartamento-3-quartos-parque-prado-bairros-campinas-com-garagem-92m2-venda-RS590000-id-2462507006/\", \"https://www.vivareal.com.br/imovel/apartamento-3-quartos-parque-prado-bairros-campinas-com-garagem-92m2-venda-RS580000-id-1038662147/\", \"https://www.vivareal.com.br/imovel/apartamento-3-quartos-parque-prado-bairros-campinas-com-garagem-92m2-venda-RS590000-id-2454308977/\", \"https://www.vivareal.com.br/imovel/apartamento-3-quartos-parque-prado-bairros-campinas-com-garagem-92m2-venda-RS583000-id-2467957146/\", \"https://www.vivareal.com.br/imovel/apartamento-3-quartos-parque-prado-bairros-campinas-com-garagem-115m2-venda-RS680000-id-2479060387/\", \"https://www.vivareal.com.br/imovel/apartamento-3-quartos-parque-prado-bairros-campinas-com-garagem-109m2-venda-RS630000-id-1473825520/\", \"https://www.vivareal.com.br/imovel/apartamento-2-quartos-parque-prado-bairros-campinas-com-garagem-85m2-venda-RS530000-id-84580675/\", \"https://www.vivareal.com.br/imovel/apartamento-3-quartos-parque-prado-bairros-campinas-com-garagem-78m2-venda-RS500000-id-2472027085/\"], \"count_similar\": [36.0, 23.0, 20.0, 20.0, 16.0, 14.0, 14.0, 14.0, 10.0, 10.0, 9.0, 9.0, 7.0, 7.0, 7.0, 5.0, 4.0, 3.0, 3.0, 2.0], \"count_medias\": [36.0, 43.0, 27.0, 26.0, 28.0, 23.0, 19.0, 19.0, 18.0, 46.0, 16.0, 13.0, 12.0, 24.0, 15.0, 9.0, 31.0, 31.0, 45.0, 54.0], \"createdAt\": [\"2019-08-16T20:06:52.221Z\", \"2019-07-05T08:11:55.394Z\", \"2020-02-01T02:33:54.571Z\", \"2018-12-01T12:17:53.261Z\", \"2019-10-07T07:08:02.781Z\", \"2019-09-13T09:53:20.049Z\", \"2020-02-22T17:22:59.490Z\", \"2020-02-22T05:33:54.851Z\", \"2018-10-22T19:09:05.405Z\", \"2017-08-15T00:01:45.287Z\", \"2018-09-21T02:08:57.017Z\", \"2019-04-05T02:40:07.570Z\", \"2019-10-27T05:49:07.919Z\", \"2018-07-13T13:17:00.078Z\", \"2019-08-19T14:38:07.898Z\", \"2019-12-13T08:16:50.952Z\", \"2020-03-24T03:30:11.386Z\", \"2018-11-20T00:14:15.266Z\", \"2017-08-16T19:19:51.192Z\", \"2020-01-24T02:46:26.679Z\"], \"portal\": [\"VIVAREAL\", \"VIVAREAL\", \"VIVAREAL\", \"VIVAREAL\", \"VIVAREAL\", \"VIVAREAL\", \"VIVAREAL\", \"VIVAREAL\", \"VIVAREAL\", \"VIVAREAL\", \"VIVAREAL\", \"VIVAREAL\", \"VIVAREAL\", \"VIVAREAL\", \"VIVAREAL\", \"VIVAREAL\", \"VIVAREAL\", \"VIVAREAL\", \"VIVAREAL\", \"VIVAREAL\"], \"updatedAt\": [\"2020-04-16T08:50:08.943Z\", \"2020-04-16T09:25:14.693Z\", \"2020-04-16T08:45:52.475Z\", \"2019-09-14T13:36:03.972Z\", \"2020-04-16T07:43:18.185Z\", \"2020-04-16T11:54:14.585Z\", \"2020-04-16T09:45:11.684Z\", \"2020-04-15T11:51:35.900Z\", \"2020-04-15T21:02:10.028Z\", \"2020-04-16T09:42:49.630Z\", \"2020-04-16T09:49:46.727Z\", \"2020-04-16T09:43:03.078Z\", \"2020-04-16T07:36:42.263Z\", \"2020-04-15T21:53:58.077Z\", \"2020-04-15T08:26:22.305Z\", \"2020-04-16T08:47:58.205Z\", \"2020-04-16T08:26:41.407Z\", \"2020-04-15T22:57:46.375Z\", \"2020-03-07T10:16:24.173Z\", \"2020-02-18T14:29:48.885Z\"], \"address\": [{\"country\": \"BR\", \"zipCode\": \"13044165\", \"geoJson\": \"\", \"city\": \"Campinas\", \"level\": \"STREET\", \"precision\": \"GEOMETRIC_CENTER\", \"confidence\": \"VALID_STREET\", \"stateAcronym\": \"\", \"source\": \"GOOGLE\", \"point\": {\"lon\": -47.050991, \"source\": \"GOOGLE\", \"lat\": -22.9388}, \"ibgeCityId\": \"\", \"zone\": \"\", \"locationId\": \"BR>Sao Paulo>NULL>Campinas>Barrios>Parque Prado\", \"district\": \"\", \"name\": \"\", \"state\": \"S\\u00e3o Paulo\", \"neighborhood\": \"Parque Prado\", \"poisList\": [\"CS:Nova Europa\", \"CS:Padaria Villa San Martinho\", \"CS:Emp\\u00f3rio Santa Maria\", \"CS:Frutaria Brotto\", \"VP:Bichos\", \"SC:Pague Menos Loja 26\", \"SC:Hortifruti Cunha\", \"SC:Auto Vidros Santo Ant\\u00f4nio\", \"SC:Tape\\u00e7aria Michelangelo\", \"SC:Auto Zone\", \"SU:E.E. Profa. Neli Helena Assis de Andrade\", \"SU:Escola Cene\", \"SU:Milton de Tolosa\"], \"complement\": \"\", \"pois\": [], \"valuableZones\": []}, {\"country\": \"BR\", \"zipCode\": \"13044165\", \"geoJson\": \"\", \"city\": \"Campinas\", \"streetNumber\": \"256\", \"level\": \"STREET\", \"precision\": \"ROOFTOP\", \"confidence\": \"VALID_STREET\", \"stateAcronym\": \"\", \"source\": \"GOOGLE\", \"point\": {\"lon\": -47.050842, \"source\": \"GOOGLE\", \"lat\": -22.93886}, \"ibgeCityId\": \"\", \"zone\": \"\", \"street\": \"Avenida Brunoro de Gasperi\", \"locationId\": \"BR>Sao Paulo>NULL>Campinas>Barrios>Parque Prado\", \"district\": \"\", \"name\": \"\", \"state\": \"S\\u00e3o Paulo\", \"neighborhood\": \"Jardim Nova Europa\", \"poisList\": [\"CS:Nova Europa\", \"CS:Padaria Villa San Martinho\", \"CS:Emp\\u00f3rio Santa Maria\", \"CS:Frutaria Brotto\", \"VP:Bichos\", \"SC:Pague Menos Loja 26\", \"SC:Hortifruti Cunha\", \"SC:Auto Vidros Santo Ant\\u00f4nio\", \"SC:Tape\\u00e7aria Michelangelo\", \"SC:Auto Zone\", \"SU:E.E. Profa. Neli Helena Assis de Andrade\", \"SU:Escola Cene\", \"SU:Milton de Tolosa\"], \"complement\": \"\", \"pois\": [], \"valuableZones\": []}, {\"country\": \"BR\", \"zipCode\": \"13044165\", \"geoJson\": \"\", \"city\": \"Campinas\", \"level\": \"STREET\", \"precision\": \"RANGE_INTERPOLATED\", \"confidence\": \"VALID_STREET\", \"stateAcronym\": \"\", \"source\": \"GOOGLE\", \"point\": {\"lon\": -47.050573, \"source\": \"GOOGLE\", \"lat\": -22.938801}, \"ibgeCityId\": \"\", \"zone\": \"\", \"locationId\": \"BR>Sao Paulo>NULL>Campinas>Barrios>Parque Prado\", \"district\": \"\", \"name\": \"\", \"state\": \"S\\u00e3o Paulo\", \"neighborhood\": \"Jardim Nova Europa\", \"poisList\": [\"CS:Nova Europa\", \"CS:Padaria Villa San Martinho\", \"CS:Emp\\u00f3rio Santa Maria\", \"CS:Frutaria Brotto\", \"VP:Bichos\", \"SC:Pague Menos Loja 26\", \"SC:Hortifruti Cunha\", \"SC:Auto Vidros Santo Ant\\u00f4nio\", \"SC:Tape\\u00e7aria Michelangelo\", \"SC:Auto Zone\", \"SU:E.E. Profa. Neli Helena Assis de Andrade\", \"SU:Escola Cene\", \"SU:Milton de Tolosa\"], \"complement\": \"\", \"pois\": [], \"valuableZones\": []}, {\"country\": \"BR\", \"zipCode\": \"13044165\", \"geoJson\": \"\", \"city\": \"Campinas\", \"streetNumber\": \"256\", \"level\": \"STREET\", \"precision\": \"ROOFTOP\", \"confidence\": \"ConfidenceLevel_NONE\", \"source\": \"GOOGLE\", \"point\": {\"lon\": -47.050842, \"source\": \"GOOGLE\", \"lat\": -22.93886}, \"ibgeCityId\": \"\", \"zone\": \"\", \"street\": \"Avenida Brunoro de Gasperi\", \"locationId\": \"BR>Sao Paulo>NULL>Campinas>Barrios>Jardim Nova Europa\", \"district\": \"\", \"name\": \"\", \"state\": \"S\\u00e3o Paulo\", \"neighborhood\": \"Jardim Nova Europa\", \"poisList\": [\"CS:Nova Europa\", \"CS:Padaria Villa San Martinho\", \"CS:Emp\\u00f3rio Santa Maria\", \"CS:Frutaria Brotto\", \"VP:Bichos\", \"SC:Pague Menos Loja 26\", \"SC:Hortifruti Cunha\", \"SC:Auto Vidros Santo Ant\\u00f4nio\", \"SC:Tape\\u00e7aria Michelangelo\", \"SC:Auto Zone\", \"SU:E.E. Profa. Neli Helena Assis de Andrade\", \"SU:Escola Cene\", \"SU:Milton de Tolosa\"], \"complement\": \"\", \"pois\": [], \"valuableZones\": []}, {\"country\": \"BR\", \"zipCode\": \"13044165\", \"geoJson\": \"\", \"city\": \"Campinas\", \"streetNumber\": \"256\", \"level\": \"STREET\", \"precision\": \"ROOFTOP\", \"confidence\": \"VALID_STREET\", \"stateAcronym\": \"\", \"source\": \"GOOGLE\", \"point\": {\"lon\": -47.050842, \"source\": \"GOOGLE\", \"lat\": -22.93886}, \"ibgeCityId\": \"\", \"zone\": \"\", \"street\": \"Avenida Brunoro de Gasperi\", \"locationId\": \"BR>Sao Paulo>NULL>Campinas>Barrios>Parque Prado\", \"district\": \"\", \"name\": \"\", \"state\": \"S\\u00e3o Paulo\", \"neighborhood\": \"Jardim Nova Europa\", \"poisList\": [\"CS:Nova Europa\", \"CS:Padaria Villa San Martinho\", \"CS:Emp\\u00f3rio Santa Maria\", \"CS:Frutaria Brotto\", \"VP:Bichos\", \"SC:Pague Menos Loja 26\", \"SC:Hortifruti Cunha\", \"SC:Auto Vidros Santo Ant\\u00f4nio\", \"SC:Tape\\u00e7aria Michelangelo\", \"SC:Auto Zone\", \"SU:E.E. Profa. Neli Helena Assis de Andrade\", \"SU:Escola Cene\", \"SU:Milton de Tolosa\"], \"complement\": \"\", \"pois\": [], \"valuableZones\": []}, {\"country\": \"BR\", \"zipCode\": \"13044165\", \"geoJson\": \"\", \"city\": \"Campinas\", \"streetNumber\": \"256\", \"level\": \"STREET\", \"precision\": \"ROOFTOP\", \"confidence\": \"VALID_STREET\", \"stateAcronym\": \"\", \"source\": \"GOOGLE\", \"point\": {\"lon\": -47.050842, \"source\": \"GOOGLE\", \"lat\": -22.93886}, \"ibgeCityId\": \"\", \"zone\": \"\", \"street\": \"Avenida Brunoro de Gasperi\", \"locationId\": \"BR>Sao Paulo>NULL>Campinas>Barrios>Parque Prado\", \"district\": \"\", \"name\": \"\", \"state\": \"S\\u00e3o Paulo\", \"neighborhood\": \"Jardim Nova Europa\", \"poisList\": [\"CS:Nova Europa\", \"CS:Padaria Villa San Martinho\", \"CS:Emp\\u00f3rio Santa Maria\", \"CS:Frutaria Brotto\", \"VP:Bichos\", \"SC:Pague Menos Loja 26\", \"SC:Hortifruti Cunha\", \"SC:Auto Vidros Santo Ant\\u00f4nio\", \"SC:Tape\\u00e7aria Michelangelo\", \"SC:Auto Zone\", \"SU:E.E. Profa. Neli Helena Assis de Andrade\", \"SU:Escola Cene\", \"SU:Milton de Tolosa\"], \"complement\": \"\", \"pois\": [], \"valuableZones\": []}, {\"country\": \"BR\", \"zipCode\": \"13044165\", \"geoJson\": \"\", \"city\": \"Campinas\", \"streetNumber\": \"\", \"level\": \"STREET\", \"precision\": \"GEOMETRIC_CENTER\", \"confidence\": \"VALID_STREET\", \"stateAcronym\": \"\", \"source\": \"GOOGLE\", \"point\": {\"lon\": -47.050991, \"source\": \"GOOGLE\", \"lat\": -22.9388}, \"ibgeCityId\": \"\", \"zone\": \"\", \"street\": \"Avenida Brunoro de Gasperi\", \"locationId\": \"BR>Sao Paulo>NULL>Campinas>Barrios>Parque Prado\", \"district\": \"\", \"name\": \"\", \"state\": \"S\\u00e3o Paulo\", \"neighborhood\": \"Parque Prado\", \"poisList\": [\"CS:Nova Europa\", \"CS:Padaria Villa San Martinho\", \"CS:Emp\\u00f3rio Santa Maria\", \"CS:Frutaria Brotto\", \"VP:Bichos\", \"SC:Pague Menos Loja 26\", \"SC:Hortifruti Cunha\", \"SC:Auto Vidros Santo Ant\\u00f4nio\", \"SC:Tape\\u00e7aria Michelangelo\", \"SC:Auto Zone\", \"SU:E.E. Profa. Neli Helena Assis de Andrade\", \"SU:Escola Cene\", \"SU:Milton de Tolosa\"], \"complement\": \"\", \"pois\": [], \"valuableZones\": []}, {\"country\": \"BR\", \"zipCode\": \"13044165\", \"geoJson\": \"\", \"city\": \"Campinas\", \"streetNumber\": \"256\", \"level\": \"STREET\", \"precision\": \"ROOFTOP\", \"confidence\": \"VALID_STREET\", \"source\": \"GOOGLE\", \"point\": {\"lon\": -47.050842, \"source\": \"GOOGLE\", \"lat\": -22.93886}, \"ibgeCityId\": \"\", \"zone\": \"\", \"street\": \"Avenida Brunoro de Gasperi\", \"locationId\": \"BR>Sao Paulo>NULL>Campinas>Barrios>Parque Prado\", \"district\": \"\", \"name\": \"\", \"state\": \"S\\u00e3o Paulo\", \"neighborhood\": \"Jardim Nova Europa\", \"poisList\": [\"CS:Nova Europa\", \"CS:Padaria Villa San Martinho\", \"CS:Emp\\u00f3rio Santa Maria\", \"CS:Frutaria Brotto\", \"VP:Bichos\", \"SC:Pague Menos Loja 26\", \"SC:Hortifruti Cunha\", \"SC:Auto Vidros Santo Ant\\u00f4nio\", \"SC:Tape\\u00e7aria Michelangelo\", \"SC:Auto Zone\", \"SU:E.E. Profa. Neli Helena Assis de Andrade\", \"SU:Escola Cene\", \"SU:Milton de Tolosa\"], \"complement\": \"\", \"pois\": [], \"valuableZones\": []}, {\"country\": \"BR\", \"zipCode\": \"13044163\", \"geoJson\": \"\", \"city\": \"Campinas\", \"streetNumber\": \"256\", \"level\": \"STREET\", \"precision\": \"RANGE_INTERPOLATED\", \"confidence\": \"VALID_STREET\", \"stateAcronym\": \"\", \"source\": \"GOOGLE\", \"point\": {\"lon\": -47.04994, \"source\": \"GOOGLE\", \"lat\": -22.941186}, \"ibgeCityId\": \"\", \"zone\": \"\", \"street\": \"Avenida Maria Em\\u00edlia Alves dos Santos de \\u00c2ngelis\", \"locationId\": \"BR>Sao Paulo>NULL>Campinas>Barrios>Parque Prado\", \"district\": \"\", \"name\": \"\", \"state\": \"S\\u00e3o Paulo\", \"neighborhood\": \"Parque Prado\", \"poisList\": [\"CS:Nova Europa\", \"CS:Padaria Villa San Martinho\", \"VP:Bichos\", \"SC:Pague Menos Loja 26\", \"SC:Hortifruti Cunha\", \"SC:Lavanderia 5aSec\", \"SC:Auto Vidros Santo Ant\\u00f4nio\", \"SC:Auto Zone\", \"SU:E.E. Profa. Neli Helena Assis de Andrade\", \"SU:Escola Cene\"], \"complement\": \"\", \"pois\": [], \"valuableZones\": []}, {\"country\": \"BR\", \"zipCode\": \"13044165\", \"geoJson\": \"\", \"city\": \"Campinas\", \"streetNumber\": \"256\", \"level\": \"STREET\", \"precision\": \"ROOFTOP\", \"confidence\": \"VALID_STREET\", \"stateAcronym\": \"\", \"source\": \"GOOGLE\", \"point\": {\"lon\": -47.050842, \"source\": \"GOOGLE\", \"lat\": -22.93886}, \"ibgeCityId\": \"\", \"zone\": \"\", \"street\": \"Avenida Brunoro de Gasperi\", \"locationId\": \"BR>Sao Paulo>NULL>Campinas>Barrios>Parque Prado\", \"district\": \"\", \"name\": \"\", \"state\": \"S\\u00e3o Paulo\", \"neighborhood\": \"Jardim Nova Europa\", \"poisList\": [\"CS:Nova Europa\", \"CS:Padaria Villa San Martinho\", \"CS:Emp\\u00f3rio Santa Maria\", \"CS:Frutaria Brotto\", \"VP:Bichos\", \"SC:Pague Menos Loja 26\", \"SC:Hortifruti Cunha\", \"SC:Auto Vidros Santo Ant\\u00f4nio\", \"SC:Tape\\u00e7aria Michelangelo\", \"SC:Auto Zone\", \"SU:E.E. Profa. Neli Helena Assis de Andrade\", \"SU:Escola Cene\", \"SU:Milton de Tolosa\"], \"complement\": \"\", \"pois\": [], \"valuableZones\": []}, {\"country\": \"BR\", \"zipCode\": \"13044165\", \"geoJson\": \"\", \"city\": \"Campinas\", \"streetNumber\": \"265\", \"level\": \"STREET\", \"precision\": \"RANGE_INTERPOLATED\", \"confidence\": \"VALID_STREET\", \"stateAcronym\": \"\", \"source\": \"GOOGLE\", \"point\": {\"lon\": -47.051244, \"source\": \"GOOGLE\", \"lat\": -22.939436}, \"ibgeCityId\": \"\", \"zone\": \"\", \"street\": \"Avenida Brunoro de Gasperi\", \"locationId\": \"BR>Sao Paulo>NULL>Campinas>Barrios>Parque Prado\", \"district\": \"\", \"name\": \"\", \"state\": \"S\\u00e3o Paulo\", \"neighborhood\": \"Jardim Nova Europa\", \"poisList\": [\"CS:Nova Europa\", \"CS:Padaria Villa San Martinho\", \"CS:Emp\\u00f3rio Santa Maria\", \"VP:Bichos\", \"SC:Pague Menos Loja 26\", \"SC:Hortifruti Cunha\", \"SC:Auto Vidros Santo Ant\\u00f4nio\", \"SC:Tape\\u00e7aria Michelangelo\", \"SC:Auto Zone\", \"SU:E.E. Profa. Neli Helena Assis de Andrade\", \"SU:Escola Cene\", \"SU:Milton de Tolosa\"], \"complement\": \"\", \"pois\": [], \"valuableZones\": []}, {\"country\": \"BR\", \"zipCode\": \"13044165\", \"geoJson\": \"\", \"city\": \"Campinas\", \"level\": \"STREET\", \"precision\": \"ROOFTOP\", \"confidence\": \"VALID_STREET\", \"stateAcronym\": \"\", \"source\": \"GOOGLE\", \"point\": {\"lon\": -47.050842, \"source\": \"GOOGLE\", \"lat\": -22.93886}, \"ibgeCityId\": \"\", \"zone\": \"\", \"street\": \"Avenida Brunoro de Gasperi\", \"locationId\": \"BR>Sao Paulo>NULL>Campinas>Barrios>Parque Prado\", \"district\": \"\", \"name\": \"\", \"state\": \"S\\u00e3o Paulo\", \"neighborhood\": \"Jardim Nova Europa\", \"poisList\": [\"CS:Nova Europa\", \"CS:Padaria Villa San Martinho\", \"CS:Emp\\u00f3rio Santa Maria\", \"CS:Frutaria Brotto\", \"VP:Bichos\", \"SC:Pague Menos Loja 26\", \"SC:Hortifruti Cunha\", \"SC:Auto Vidros Santo Ant\\u00f4nio\", \"SC:Tape\\u00e7aria Michelangelo\", \"SC:Auto Zone\", \"SU:E.E. Profa. Neli Helena Assis de Andrade\", \"SU:Escola Cene\", \"SU:Milton de Tolosa\"], \"complement\": \"\", \"pois\": [], \"valuableZones\": []}, {\"country\": \"BR\", \"zipCode\": \"13044165\", \"geoJson\": \"\", \"city\": \"Campinas\", \"streetNumber\": \"256\", \"level\": \"STREET\", \"precision\": \"ROOFTOP\", \"confidence\": \"VALID_STREET\", \"stateAcronym\": \"\", \"source\": \"GOOGLE\", \"point\": {\"lon\": -47.050842, \"source\": \"GOOGLE\", \"lat\": -22.93886}, \"ibgeCityId\": \"\", \"zone\": \"\", \"street\": \"Avenida Brunoro de Gasperi\", \"locationId\": \"BR>Sao Paulo>NULL>Campinas>Barrios>Parque Prado\", \"district\": \"\", \"name\": \"\", \"state\": \"S\\u00e3o Paulo\", \"neighborhood\": \"Jardim Nova Europa\", \"poisList\": [\"CS:Nova Europa\", \"CS:Padaria Villa San Martinho\", \"CS:Emp\\u00f3rio Santa Maria\", \"CS:Frutaria Brotto\", \"VP:Bichos\", \"SC:Pague Menos Loja 26\", \"SC:Hortifruti Cunha\", \"SC:Auto Vidros Santo Ant\\u00f4nio\", \"SC:Tape\\u00e7aria Michelangelo\", \"SC:Auto Zone\", \"SU:E.E. Profa. Neli Helena Assis de Andrade\", \"SU:Escola Cene\", \"SU:Milton de Tolosa\"], \"complement\": \"\", \"pois\": [], \"valuableZones\": []}, {\"country\": \"BR\", \"zipCode\": \"13044165\", \"geoJson\": \"\", \"city\": \"Campinas\", \"level\": \"STREET\", \"precision\": \"ROOFTOP\", \"confidence\": \"VALID_STREET\", \"stateAcronym\": \"\", \"source\": \"GOOGLE\", \"point\": {\"lon\": -47.050842, \"source\": \"GOOGLE\", \"lat\": -22.93886}, \"ibgeCityId\": \"\", \"zone\": \"\", \"street\": \"Avenida Brunoro de Gasperi\", \"locationId\": \"BR>Sao Paulo>NULL>Campinas>Barrios>Parque Prado\", \"district\": \"\", \"name\": \"\", \"state\": \"S\\u00e3o Paulo\", \"neighborhood\": \"Jardim Nova Europa\", \"poisList\": [\"CS:Nova Europa\", \"CS:Padaria Villa San Martinho\", \"CS:Emp\\u00f3rio Santa Maria\", \"CS:Frutaria Brotto\", \"VP:Bichos\", \"SC:Pague Menos Loja 26\", \"SC:Hortifruti Cunha\", \"SC:Auto Vidros Santo Ant\\u00f4nio\", \"SC:Tape\\u00e7aria Michelangelo\", \"SC:Auto Zone\", \"SU:E.E. Profa. Neli Helena Assis de Andrade\", \"SU:Escola Cene\", \"SU:Milton de Tolosa\"], \"complement\": \"\", \"pois\": [], \"valuableZones\": []}, {\"country\": \"BR\", \"zipCode\": \"13044165\", \"geoJson\": \"\", \"city\": \"Campinas\", \"streetNumber\": \"\", \"level\": \"STREET\", \"precision\": \"GEOMETRIC_CENTER\", \"confidence\": \"VALID_STREET\", \"source\": \"GOOGLE\", \"point\": {\"lon\": -47.050991, \"source\": \"GOOGLE\", \"lat\": -22.9388}, \"ibgeCityId\": \"\", \"zone\": \"\", \"street\": \"Avenida Brunoro de Gasperi\", \"locationId\": \"BR>Sao Paulo>NULL>Campinas>Barrios>Parque Prado\", \"district\": \"\", \"name\": \"\", \"state\": \"S\\u00e3o Paulo\", \"neighborhood\": \"Parque Prado\", \"poisList\": [\"CS:Nova Europa\", \"CS:Padaria Villa San Martinho\", \"CS:Emp\\u00f3rio Santa Maria\", \"CS:Frutaria Brotto\", \"VP:Bichos\", \"SC:Pague Menos Loja 26\", \"SC:Hortifruti Cunha\", \"SC:Auto Vidros Santo Ant\\u00f4nio\", \"SC:Tape\\u00e7aria Michelangelo\", \"SC:Auto Zone\", \"SU:E.E. Profa. Neli Helena Assis de Andrade\", \"SU:Escola Cene\", \"SU:Milton de Tolosa\"], \"complement\": \"\", \"pois\": [], \"valuableZones\": []}, {\"country\": \"BR\", \"zipCode\": \"13044165\", \"geoJson\": \"\", \"city\": \"Campinas\", \"level\": \"STREET\", \"precision\": \"GEOMETRIC_CENTER\", \"confidence\": \"VALID_STREET\", \"stateAcronym\": \"\", \"source\": \"GOOGLE\", \"point\": {\"lon\": -47.050991, \"source\": \"GOOGLE\", \"lat\": -22.9388}, \"ibgeCityId\": \"\", \"zone\": \"\", \"locationId\": \"BR>Sao Paulo>NULL>Campinas>Barrios>Parque Prado\", \"district\": \"\", \"name\": \"\", \"state\": \"S\\u00e3o Paulo\", \"neighborhood\": \"Parque Prado\", \"poisList\": [\"CS:Nova Europa\", \"CS:Padaria Villa San Martinho\", \"CS:Emp\\u00f3rio Santa Maria\", \"CS:Frutaria Brotto\", \"VP:Bichos\", \"SC:Pague Menos Loja 26\", \"SC:Hortifruti Cunha\", \"SC:Auto Vidros Santo Ant\\u00f4nio\", \"SC:Tape\\u00e7aria Michelangelo\", \"SC:Auto Zone\", \"SU:E.E. Profa. Neli Helena Assis de Andrade\", \"SU:Escola Cene\", \"SU:Milton de Tolosa\"], \"complement\": \"\", \"pois\": [], \"valuableZones\": []}, {\"country\": \"BR\", \"zipCode\": \"13044165\", \"geoJson\": \"\", \"city\": \"Campinas\", \"level\": \"STREET\", \"precision\": \"GEOMETRIC_CENTER\", \"confidence\": \"VALID_STREET\", \"stateAcronym\": \"\", \"source\": \"GOOGLE\", \"point\": {\"lon\": -47.050991, \"source\": \"GOOGLE\", \"lat\": -22.9388}, \"ibgeCityId\": \"\", \"zone\": \"\", \"locationId\": \"BR>Sao Paulo>NULL>Campinas>Barrios>Parque Prado\", \"district\": \"\", \"name\": \"\", \"state\": \"S\\u00e3o Paulo\", \"neighborhood\": \"Parque Prado\", \"poisList\": [\"CS:Nova Europa\", \"CS:Padaria Villa San Martinho\", \"CS:Emp\\u00f3rio Santa Maria\", \"CS:Frutaria Brotto\", \"VP:Bichos\", \"SC:Pague Menos Loja 26\", \"SC:Hortifruti Cunha\", \"SC:Auto Vidros Santo Ant\\u00f4nio\", \"SC:Tape\\u00e7aria Michelangelo\", \"SC:Auto Zone\", \"SU:E.E. Profa. Neli Helena Assis de Andrade\", \"SU:Escola Cene\", \"SU:Milton de Tolosa\"], \"complement\": \"\", \"pois\": [], \"valuableZones\": []}, {\"country\": \"BR\", \"zipCode\": \"13044902\", \"geoJson\": \"\", \"city\": \"Campinas\", \"level\": \"STREET\", \"precision\": \"GEOMETRIC_CENTER\", \"confidence\": \"VALID_STREET\", \"stateAcronym\": \"\", \"source\": \"GOOGLE\", \"point\": {\"lon\": -47.049274, \"source\": \"GOOGLE\", \"lat\": -22.942955}, \"ibgeCityId\": \"\", \"zone\": \"\", \"locationId\": \"BR>Sao Paulo>NULL>Campinas>Barrios>Parque Prado\", \"district\": \"\", \"name\": \"\", \"state\": \"S\\u00e3o Paulo\", \"neighborhood\": \"Parque Prado\", \"poisList\": [\"CS:Nova Europa\", \"CS:Padaria Villa San Martinho\", \"VP:Bichos\", \"SC:Pague Menos Loja 26\", \"SC:Lavanderia 5aSec\", \"SC:Hortifruti Cunha\", \"SC:Auto Zone\", \"SC:Auto Vidros Santo Ant\\u00f4nio\", \"SU:E.E. Profa. Neli Helena Assis de Andrade\", \"SU:Escola Cene\"], \"complement\": \"\", \"pois\": [], \"valuableZones\": []}, {\"country\": \"BR\", \"zipCode\": \"13044165\", \"geoJson\": \"\", \"city\": \"Campinas\", \"streetNumber\": \"256\", \"level\": \"STREET\", \"precision\": \"ROOFTOP\", \"confidence\": \"VALID_STREET\", \"source\": \"GOOGLE\", \"point\": {\"lon\": -47.050842, \"source\": \"GOOGLE\", \"lat\": -22.93886}, \"ibgeCityId\": \"\", \"zone\": \"\", \"street\": \"Avenida Brunoro de Gasperi\", \"locationId\": \"BR>Sao Paulo>NULL>Campinas>Barrios>Parque Prado\", \"district\": \"\", \"name\": \"\", \"state\": \"S\\u00e3o Paulo\", \"neighborhood\": \"Jardim Nova Europa\", \"poisList\": [\"CS:Nova Europa\", \"CS:Padaria Villa San Martinho\", \"CS:Emp\\u00f3rio Santa Maria\", \"CS:Frutaria Brotto\", \"VP:Bichos\", \"SC:Pague Menos Loja 26\", \"SC:Hortifruti Cunha\", \"SC:Auto Vidros Santo Ant\\u00f4nio\", \"SC:Tape\\u00e7aria Michelangelo\", \"SC:Auto Zone\", \"SU:E.E. Profa. Neli Helena Assis de Andrade\", \"SU:Escola Cene\", \"SU:Milton de Tolosa\"], \"complement\": \"\", \"pois\": [], \"valuableZones\": []}, {\"country\": \"BR\", \"zipCode\": \"\", \"geoJson\": \"\", \"city\": \"Campinas\", \"level\": \"NEIGHBORHOOD\", \"precision\": \"APPROXIMATE\", \"confidence\": \"VALID_STREET\", \"source\": \"GOOGLE\", \"point\": {\"lon\": -47.049788, \"source\": \"GOOGLE\", \"lat\": -22.940761}, \"ibgeCityId\": \"\", \"zone\": \"\", \"locationId\": \"BR>Sao Paulo>NULL>Campinas>Barrios>Parque Prado\", \"district\": \"\", \"name\": \"\", \"state\": \"S\\u00e3o Paulo\", \"neighborhood\": \"Parque Prado\", \"poisList\": [\"CS:Nova Europa\", \"CS:Padaria Villa San Martinho\", \"VP:Bichos\", \"SC:Pague Menos Loja 26\", \"SC:Hortifruti Cunha\", \"SC:Auto Vidros Santo Ant\\u00f4nio\", \"SC:Lavanderia 5aSec\", \"SC:Auto Zone\", \"SU:E.E. Profa. Neli Helena Assis de Andrade\", \"SU:Escola Cene\"], \"complement\": \"\", \"pois\": [], \"valuableZones\": []}], \"totalAreas\": [[\"92\"], [\"110\"], [\"92\"], [\"92\"], [\"114\"], [\"90\"], [\"90\"], [\"90\"], [\"92\"], [\"114\"], [\"114\"], [\"114\"], [\"117\"], [\"92\"], [\"92\"], [\"92\"], [\"115\"], [\"115\"], [\"85\"], [\"78\"]], \"status\": [\"ACTIVE\", \"ACTIVE\", \"ACTIVE\", \"ACTIVE\", \"ACTIVE\", \"ACTIVE\", \"ACTIVE\", \"ACTIVE\", \"ACTIVE\", \"ACTIVE\", \"ACTIVE\", \"ACTIVE\", \"ACTIVE\", \"ACTIVE\", \"ACTIVE\", \"ACTIVE\", \"ACTIVE\", \"ACTIVE\", \"ACTIVE\", \"ACTIVE\"], \"price\": [\"545000\", \"580000\", \"590000\", \"585000\", \"545000\", \"550000\", \"550000\", \"550000\", \"585000\", \"580000\", \"580000\", \"584000\", \"590000\", \"580000\", \"590000\", \"583000\", \"680000\", \"630000\", \"530000\", \"500000\"], \"updated\": [\"2020-04-16 14:31:01.621724\", \"2020-04-16 14:31:01.657217\", NaN, \"2020-04-16 14:30:47.702652\", NaN, \"2020-04-16 14:30:47.651498\", \"2020-04-16 14:31:03.816570\", \"2020-04-16 14:30:47.611925\", \"2020-04-16 14:30:47.687103\", \"2020-04-16 14:31:03.773423\", NaN, NaN, NaN, NaN, \"2020-04-16 14:30:47.670794\", \"2020-04-16 14:31:01.806543\", NaN, NaN, NaN, NaN], \"lon\": [-47.050991, -47.050842, -47.050573, -47.050842, -47.050842, -47.050842, -47.050991, -47.050842, -47.04994, -47.050842, -47.051244, -47.050842, -47.050842, -47.050842, -47.050991, -47.050991, -47.050991, -47.049274, -47.050842, -47.049788], \"lat\": [-22.9388, -22.93886, -22.938801, -22.93886, -22.93886, -22.93886, -22.9388, -22.93886, -22.941186, -22.93886, -22.939436, -22.93886, -22.93886, -22.93886, -22.9388, -22.9388, -22.9388, -22.942955, -22.93886, -22.940761], \"dist\": [0.0, 0.017169548252975595, 0.04645035914156223, 0.017169548252975595, 0.017169548252975595, 0.017169548252975595, 0.0, 0.017169548252975595, 0.21512213386242227, 0.017169548252975595, 0.05576099584594392, 0.017169548252975595, 0.017169548252975595, 0.017169548252975595, 0.0, 0.0, 0.0, 0.3679381679521779, 0.017169548252975595, 0.19979266210090676]}\n"
     ]
    }
   ],
   "source": [
    "cols = ['id_vivareal', 'link_url', 'count_similar', 'count_medias', 'createdAt', 'portal', \n",
    "        'updatedAt', 'address', 'totalAreas', 'status', 'price',\n",
    "         'updated', 'lon', 'lat', 'dist']\n",
    "\n",
    "import json\n",
    "\n",
    "print (json.dumps(df_filtered2[(cols)].to_dict(orient='list')))\n",
    "# df_filtered2[(cols)].to_csv('similares.csv', sep=',', encoding='utf-8')\n",
    "# df_filtered2[(cols)].to_json()"
   ]
  }
 ],
 "metadata": {
  "kernelspec": {
   "display_name": "Python 3",
   "language": "python",
   "name": "python3"
  },
  "language_info": {
   "codemirror_mode": {
    "name": "ipython",
    "version": 3
   },
   "file_extension": ".py",
   "mimetype": "text/x-python",
   "name": "python",
   "nbconvert_exporter": "python",
   "pygments_lexer": "ipython3",
   "version": "3.7.6"
  }
 },
 "nbformat": 4,
 "nbformat_minor": 4
}
