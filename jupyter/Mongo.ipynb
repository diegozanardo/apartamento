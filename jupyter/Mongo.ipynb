{
 "cells": [
  {
   "cell_type": "code",
   "execution_count": null,
   "metadata": {},
   "outputs": [],
   "source": [
    "import pandas as pd\n",
    "from pymongo import MongoClient\n",
    "\n",
    "\n",
    "def _connect_mongo(host, port, username, password, db):\n",
    "    \"\"\" A util for making a connection to mongo \"\"\"\n",
    "\n",
    "    if username and password:\n",
    "        mongo_uri = 'mongodb://%s:%s@%s:%s/%s' % (username, password, host, port, db)\n",
    "        conn = MongoClient(mongo_uri)\n",
    "    else:\n",
    "        conn = MongoClient(host, port)\n",
    "\n",
    "\n",
    "    return conn[db]"
   ]
  },
  {
   "cell_type": "code",
   "execution_count": 80,
   "metadata": {},
   "outputs": [],
   "source": [
    "def read_mongo(db, collection, query={}, host='localhost', port=27017, username=None, password=None, no_id=True):\n",
    "    \"\"\" Read from Mongo and Store into DataFrame \"\"\"\n",
    "\n",
    "    # Connect to MongoDB\n",
    "    db = _connect_mongo(host=host, port=port, username=username, password=password, db=db)\n",
    "\n",
    "    # Make a query to the specific DB and Collection\n",
    "    cursor = db[collection].find(query)\n",
    "\n",
    "    # Expand the cursor and construct the DataFrame\n",
    "    df =  pd.DataFrame(list(cursor))\n",
    "\n",
    "    # Delete the _id\n",
    "    if no_id:\n",
    "        del df['_id']\n",
    "\n",
    "    return df"
   ]
  },
  {
   "cell_type": "code",
   "execution_count": 81,
   "metadata": {},
   "outputs": [],
   "source": [
    "ids = ['75007517', '2464774082', '1041254421', '2476424816', '2443225876', '2476740635', '2454100925', '2460138077', '2476904013', '1038740426', '2472568298']\n",
    "#df = read_mongo(db=\"propertiesdb\", collection=\"apartment\", host='localhost', query={\"id_vivareal\" : {\"$in\" : ids}})\n",
    "df = read_mongo(db=\"propertiesdb\", collection=\"apartment\", host='localhost')"
   ]
  },
  {
   "cell_type": "code",
   "execution_count": 82,
   "metadata": {},
   "outputs": [],
   "source": [
    "df['point'] = df['address'].apply(lambda v: v.get('point') if isinstance(v, dict) else '')\n",
    "df['link_url'] = df['link'].apply(lambda v: v.get('href') if isinstance(v, dict) else '')\n",
    "df['link_url'] = 'https://www.vivareal.com.br' + df['link_url']"
   ]
  },
  {
   "cell_type": "code",
   "execution_count": 83,
   "metadata": {},
   "outputs": [],
   "source": [
    "df['lon'] = pd.to_numeric(df['point'].apply(lambda v: v.get('lon') if isinstance(v, dict) else ''), errors='coerce')\n",
    "df['lat'] = pd.to_numeric(df['point'].apply(lambda v: v.get('lat') if isinstance(v, dict) else ''), errors='coerce')"
   ]
  },
  {
   "cell_type": "code",
   "execution_count": 84,
   "metadata": {},
   "outputs": [],
   "source": [
    "import numpy as np\n",
    "def haversine_np(lon1, lat1, lon2, lat2):\n",
    "    \"\"\"\n",
    "    Calculate the great circle distance between two points\n",
    "    on the earth (specified in decimal degrees)\n",
    "\n",
    "    All args must be of equal length.    \n",
    "\n",
    "    \"\"\"\n",
    "    lon1, lat1, lon2, lat2 = map(np.radians, [lon1, lat1, lon2, lat2])\n",
    "\n",
    "    dlon = lon2 - lon1\n",
    "    dlat = lat2 - lat1\n",
    "\n",
    "    a = np.sin(dlat/2.0)**2 + np.cos(lat1) * np.cos(lat2) * np.sin(dlon/2.0)**2\n",
    "\n",
    "    c = 2 * np.arcsin(np.sqrt(a))\n",
    "    km = 6367 * c\n",
    "    return km"
   ]
  },
  {
   "cell_type": "code",
   "execution_count": 85,
   "metadata": {
    "scrolled": true
   },
   "outputs": [
    {
     "data": {
      "text/plain": [
       "0.0"
      ]
     },
     "execution_count": 85,
     "metadata": {},
     "output_type": "execute_result"
    }
   ],
   "source": [
    "item = df[(df.id_vivareal == '2454100925')]\n",
    "lat_default, log_default = item['lat'].values[0], item['lon'].values[0]\n",
    "haversine_np(lat_default, log_default, -22.9388, -47.050991)"
   ]
  },
  {
   "cell_type": "code",
   "execution_count": 86,
   "metadata": {
    "scrolled": false
   },
   "outputs": [
    {
     "data": {
      "text/html": [
       "<div>\n",
       "<style scoped>\n",
       "    .dataframe tbody tr th:only-of-type {\n",
       "        vertical-align: middle;\n",
       "    }\n",
       "\n",
       "    .dataframe tbody tr th {\n",
       "        vertical-align: top;\n",
       "    }\n",
       "\n",
       "    .dataframe thead th {\n",
       "        text-align: right;\n",
       "    }\n",
       "</style>\n",
       "<table border=\"1\" class=\"dataframe\">\n",
       "  <thead>\n",
       "    <tr style=\"text-align: right;\">\n",
       "      <th></th>\n",
       "      <th>dist</th>\n",
       "      <th>id_vivareal</th>\n",
       "      <th>title</th>\n",
       "      <th>lon</th>\n",
       "      <th>lat</th>\n",
       "    </tr>\n",
       "  </thead>\n",
       "  <tbody>\n",
       "    <tr>\n",
       "      <th>98</th>\n",
       "      <td>0.000000</td>\n",
       "      <td>2454308977</td>\n",
       "      <td>apartamento - Parque Prado - Campinas</td>\n",
       "      <td>-47.050991</td>\n",
       "      <td>-22.938800</td>\n",
       "    </tr>\n",
       "    <tr>\n",
       "      <th>841</th>\n",
       "      <td>0.000000</td>\n",
       "      <td>2467958369</td>\n",
       "      <td>Apartamento com 3 dormitórios à venda, 87 m² p...</td>\n",
       "      <td>-47.050991</td>\n",
       "      <td>-22.938800</td>\n",
       "    </tr>\n",
       "    <tr>\n",
       "      <th>170</th>\n",
       "      <td>0.000000</td>\n",
       "      <td>2462027022</td>\n",
       "      <td>Excelente Apartamento Parque Prado</td>\n",
       "      <td>-47.050991</td>\n",
       "      <td>-22.938800</td>\n",
       "    </tr>\n",
       "    <tr>\n",
       "      <th>833</th>\n",
       "      <td>0.000000</td>\n",
       "      <td>2475423197</td>\n",
       "      <td>apartamento - Parque Prado - Campinas</td>\n",
       "      <td>-47.050991</td>\n",
       "      <td>-22.938800</td>\n",
       "    </tr>\n",
       "    <tr>\n",
       "      <th>167</th>\n",
       "      <td>0.000000</td>\n",
       "      <td>2433721919</td>\n",
       "      <td>Lindo apartamento no bairro Vista Prado</td>\n",
       "      <td>-47.050991</td>\n",
       "      <td>-22.938800</td>\n",
       "    </tr>\n",
       "    <tr>\n",
       "      <th>...</th>\n",
       "      <td>...</td>\n",
       "      <td>...</td>\n",
       "      <td>...</td>\n",
       "      <td>...</td>\n",
       "      <td>...</td>\n",
       "    </tr>\n",
       "    <tr>\n",
       "      <th>457</th>\n",
       "      <td>7.291257</td>\n",
       "      <td>2467960707</td>\n",
       "      <td>Apartamento Resort Brisa da Mata - 3 dormitóri...</td>\n",
       "      <td>-47.002649</td>\n",
       "      <td>-23.003882</td>\n",
       "    </tr>\n",
       "    <tr>\n",
       "      <th>243</th>\n",
       "      <td>3434.018232</td>\n",
       "      <td>2441260297</td>\n",
       "      <td>Excelente apartamento térreo disponível para v...</td>\n",
       "      <td>-22.944882</td>\n",
       "      <td>-47.051056</td>\n",
       "    </tr>\n",
       "    <tr>\n",
       "      <th>201</th>\n",
       "      <td>3434.018232</td>\n",
       "      <td>2439522014</td>\n",
       "      <td>Excelente Apartamento Terreo a venda tem 80 m2...</td>\n",
       "      <td>-22.944882</td>\n",
       "      <td>-47.051056</td>\n",
       "    </tr>\n",
       "    <tr>\n",
       "      <th>289</th>\n",
       "      <td>3435.257424</td>\n",
       "      <td>2440710174</td>\n",
       "      <td>Otimo apartamento térreo com Garden 3 dormitór...</td>\n",
       "      <td>-22.937527</td>\n",
       "      <td>-47.061014</td>\n",
       "    </tr>\n",
       "    <tr>\n",
       "      <th>284</th>\n",
       "      <td>3435.257424</td>\n",
       "      <td>2440708289</td>\n",
       "      <td>Otimo apartamento térreo com Garden varanda Go...</td>\n",
       "      <td>-22.937527</td>\n",
       "      <td>-47.061014</td>\n",
       "    </tr>\n",
       "  </tbody>\n",
       "</table>\n",
       "<p>974 rows × 5 columns</p>\n",
       "</div>"
      ],
      "text/plain": [
       "            dist id_vivareal  \\\n",
       "98      0.000000  2454308977   \n",
       "841     0.000000  2467958369   \n",
       "170     0.000000  2462027022   \n",
       "833     0.000000  2475423197   \n",
       "167     0.000000  2433721919   \n",
       "..           ...         ...   \n",
       "457     7.291257  2467960707   \n",
       "243  3434.018232  2441260297   \n",
       "201  3434.018232  2439522014   \n",
       "289  3435.257424  2440710174   \n",
       "284  3435.257424  2440708289   \n",
       "\n",
       "                                                 title        lon        lat  \n",
       "98               apartamento - Parque Prado - Campinas -47.050991 -22.938800  \n",
       "841  Apartamento com 3 dormitórios à venda, 87 m² p... -47.050991 -22.938800  \n",
       "170                 Excelente Apartamento Parque Prado -47.050991 -22.938800  \n",
       "833              apartamento - Parque Prado - Campinas -47.050991 -22.938800  \n",
       "167            Lindo apartamento no bairro Vista Prado -47.050991 -22.938800  \n",
       "..                                                 ...        ...        ...  \n",
       "457  Apartamento Resort Brisa da Mata - 3 dormitóri... -47.002649 -23.003882  \n",
       "243  Excelente apartamento térreo disponível para v... -22.944882 -47.051056  \n",
       "201  Excelente Apartamento Terreo a venda tem 80 m2... -22.944882 -47.051056  \n",
       "289  Otimo apartamento térreo com Garden 3 dormitór... -22.937527 -47.061014  \n",
       "284  Otimo apartamento térreo com Garden varanda Go... -22.937527 -47.061014  \n",
       "\n",
       "[974 rows x 5 columns]"
      ]
     },
     "execution_count": 86,
     "metadata": {},
     "output_type": "execute_result"
    }
   ],
   "source": [
    "df['dist'] = haversine_np(lat_default, log_default, df['lat'], df['lon'])\n",
    "\n",
    "df[['dist', \"id_vivareal\", \"title\", \"lon\", \"lat\"]].sort_values('dist')"
   ]
  },
  {
   "cell_type": "code",
   "execution_count": 89,
   "metadata": {},
   "outputs": [
    {
     "data": {
      "text/plain": [
       "884"
      ]
     },
     "execution_count": 89,
     "metadata": {},
     "output_type": "execute_result"
    }
   ],
   "source": [
    "df_filtered = df[(df.dist <= 1)].copy()\n",
    "\n",
    "len(df_filtered)"
   ]
  },
  {
   "cell_type": "code",
   "execution_count": 93,
   "metadata": {},
   "outputs": [],
   "source": [
    "import imagehash\n",
    "import PIL\n",
    "\n",
    "IMGFOLDER = '/home/dzanardo/github/apartamento/images/'\n",
    "\n",
    "def hash_image(file):\n",
    "    print('-------------')\n",
    "    print(file)\n",
    "    file_name = IMGFOLDER + file\n",
    "    img = PIL.Image.open(file_name)\n",
    "    return imagehash.average_hash(img)"
   ]
  },
  {
   "cell_type": "code",
   "execution_count": null,
   "metadata": {},
   "outputs": [],
   "source": [
    "df_filtered['images_hash'] = [print(type(img)) for img in (imgs for imgs in df['images'])]"
   ]
  },
  {
   "cell_type": "code",
   "execution_count": 45,
   "metadata": {},
   "outputs": [
    {
     "name": "stdout",
     "output_type": "stream",
     "text": [
      "27113 2.962491199024953 62.29410781832121\n"
     ]
    }
   ],
   "source": [
    "import PIL\n",
    "import imagehash\n",
    "import timeit\n",
    "\n",
    "IMGFOLDER = '/home/dzanardo/github/apartamento/images/'\n",
    "part1 = 0\n",
    "part2 = 0\n",
    "count = 0\n",
    "\n",
    "images = {}\n",
    "\n",
    "for index, row in df_filtered.iterrows():\n",
    "    for m in row['medias']:\n",
    "        try:\n",
    "            start = timeit.default_timer()\n",
    "\n",
    "            file_name = IMGFOLDER + m['new_url']\n",
    "            img = PIL.Image.open(file_name)\n",
    "\n",
    "            stop = timeit.default_timer()\n",
    "            part1 += stop - start\n",
    "\n",
    "\n",
    "            start = timeit.default_timer()\n",
    "\n",
    "            img_hash = imagehash.average_hash(img)\n",
    "            images[m['new_url']] = img_hash\n",
    "\n",
    "            stop = timeit.default_timer()\n",
    "            part2 += stop - start\n",
    "\n",
    "            count += 1\n",
    "        except:\n",
    "            pass\n",
    "\n",
    "print(count, part1, part2)"
   ]
  },
  {
   "cell_type": "code",
   "execution_count": 42,
   "metadata": {},
   "outputs": [],
   "source": [
    "CUTOFF = 5\n",
    "\n",
    "for index, row in df_filtered.iterrows():\n",
    "    count_s = 0\n",
    "    count_medias = 0\n",
    "    for m in row['medias']:\n",
    "        if m['new_url'] in images:\n",
    "            count_medias += 1\n",
    "            for im in item['medias'].values[0]:\n",
    "                 if im['new_url'] in images:           \n",
    "                    if (images[m['new_url']] - images[im['new_url']]) < CUTOFF:\n",
    "                        count_s += 1\n",
    "                        break\n",
    "                \n",
    "    df_filtered.loc[index,'count_similar'] = count_s\n",
    "    df_filtered.loc[index,'count_medias'] = count_medias\n",
    "    "
   ]
  },
  {
   "cell_type": "code",
   "execution_count": 43,
   "metadata": {},
   "outputs": [],
   "source": [
    "df_filtered2 = df_filtered[(df_filtered.count_similar >1)]\n",
    "df_filtered2 = df_filtered2.sort_values(by=['count_similar'], ascending=False)"
   ]
  },
  {
   "cell_type": "code",
   "execution_count": 44,
   "metadata": {},
   "outputs": [],
   "source": [
    "cols = ['id_vivareal', 'link_url', 'count_similar', 'count_medias', 'createdAt', 'portal', \n",
    "        'updatedAt', 'address', 'totalAreas', 'status', 'price',\n",
    "         'updated', 'lon', 'lat', 'dist']\n",
    "\n",
    "df_filtered2[(cols)].to_csv('similares.csv', sep=',', encoding='utf-8')"
   ]
  },
  {
   "cell_type": "code",
   "execution_count": null,
   "metadata": {},
   "outputs": [],
   "source": []
  },
  {
   "cell_type": "code",
   "execution_count": null,
   "metadata": {},
   "outputs": [],
   "source": []
  },
  {
   "cell_type": "code",
   "execution_count": null,
   "metadata": {},
   "outputs": [],
   "source": []
  }
 ],
 "metadata": {
  "kernelspec": {
   "display_name": "Python 3",
   "language": "python",
   "name": "python3"
  },
  "language_info": {
   "codemirror_mode": {
    "name": "ipython",
    "version": 3
   },
   "file_extension": ".py",
   "mimetype": "text/x-python",
   "name": "python",
   "nbconvert_exporter": "python",
   "pygments_lexer": "ipython3",
   "version": "3.7.6"
  }
 },
 "nbformat": 4,
 "nbformat_minor": 4
}
